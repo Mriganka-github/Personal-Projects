{
 "cells": [
  {
   "cell_type": "code",
   "execution_count": 1,
   "metadata": {
    "id": "stBQuw3pTFun"
   },
   "outputs": [],
   "source": [
    "#import necessary libraries\n",
    "import pandas as pd\n",
    "import numpy as np\n",
    "import os\n",
    "import string\n",
    "import nltk\n",
    "import re\n",
    "from bs4 import BeautifulSoup\n",
    "import requests"
   ]
  },
  {
   "cell_type": "markdown",
   "metadata": {
    "id": "72Rs0997Usjq"
   },
   "source": [
    "Download required packages"
   ]
  },
  {
   "cell_type": "code",
   "execution_count": 2,
   "metadata": {
    "colab": {
     "base_uri": "https://localhost:8080/"
    },
    "id": "VjuLrN1eOY2y",
    "outputId": "a11e7e95-8895-4456-9cd8-5a23bc9af1d5"
   },
   "outputs": [
    {
     "name": "stderr",
     "output_type": "stream",
     "text": [
      "[nltk_data] Downloading package punkt to /root/nltk_data...\n",
      "[nltk_data]   Unzipping tokenizers/punkt.zip.\n"
     ]
    },
    {
     "data": {
      "text/plain": [
       "True"
      ]
     },
     "execution_count": 2,
     "metadata": {},
     "output_type": "execute_result"
    }
   ],
   "source": [
    "nltk.download('punkt')"
   ]
  },
  {
   "cell_type": "code",
   "execution_count": 3,
   "metadata": {
    "colab": {
     "base_uri": "https://localhost:8080/"
    },
    "id": "OB69-D0wXdSN",
    "outputId": "99b7c726-85bf-47ba-ec58-4d39a9756af4"
   },
   "outputs": [
    {
     "name": "stderr",
     "output_type": "stream",
     "text": [
      "[nltk_data] Downloading package cmudict to /root/nltk_data...\n",
      "[nltk_data]   Unzipping corpora/cmudict.zip.\n"
     ]
    },
    {
     "data": {
      "text/plain": [
       "True"
      ]
     },
     "execution_count": 3,
     "metadata": {},
     "output_type": "execute_result"
    }
   ],
   "source": [
    "nltk.download('cmudict')"
   ]
  },
  {
   "cell_type": "code",
   "execution_count": 4,
   "metadata": {
    "id": "s524iHp9ub19"
   },
   "outputs": [],
   "source": [
    "#To store scraped texts \n",
    "dir = \"Extracted_Texts\"\n",
    "os.mkdir(dir)"
   ]
  },
  {
   "cell_type": "code",
   "execution_count": 5,
   "metadata": {
    "colab": {
     "base_uri": "https://localhost:8080/",
     "height": 206
    },
    "id": "UXj-_V_LvzJn",
    "outputId": "6ca96ae1-d3e1-4598-88fd-ec54d30d9bd6"
   },
   "outputs": [
    {
     "data": {
      "text/html": [
       "\n",
       "  <div id=\"df-4f03c154-a604-45f7-847d-d955f09b17e1\">\n",
       "    <div class=\"colab-df-container\">\n",
       "      <div>\n",
       "<style scoped>\n",
       "    .dataframe tbody tr th:only-of-type {\n",
       "        vertical-align: middle;\n",
       "    }\n",
       "\n",
       "    .dataframe tbody tr th {\n",
       "        vertical-align: top;\n",
       "    }\n",
       "\n",
       "    .dataframe thead th {\n",
       "        text-align: right;\n",
       "    }\n",
       "</style>\n",
       "<table border=\"1\" class=\"dataframe\">\n",
       "  <thead>\n",
       "    <tr style=\"text-align: right;\">\n",
       "      <th></th>\n",
       "      <th>URL_ID</th>\n",
       "      <th>URL</th>\n",
       "    </tr>\n",
       "  </thead>\n",
       "  <tbody>\n",
       "    <tr>\n",
       "      <th>0</th>\n",
       "      <td>37</td>\n",
       "      <td>https://insights.blackcoffer.com/ai-in-healthc...</td>\n",
       "    </tr>\n",
       "    <tr>\n",
       "      <th>1</th>\n",
       "      <td>38</td>\n",
       "      <td>https://insights.blackcoffer.com/what-if-the-c...</td>\n",
       "    </tr>\n",
       "    <tr>\n",
       "      <th>2</th>\n",
       "      <td>39</td>\n",
       "      <td>https://insights.blackcoffer.com/what-jobs-wil...</td>\n",
       "    </tr>\n",
       "    <tr>\n",
       "      <th>3</th>\n",
       "      <td>40</td>\n",
       "      <td>https://insights.blackcoffer.com/will-machine-...</td>\n",
       "    </tr>\n",
       "    <tr>\n",
       "      <th>4</th>\n",
       "      <td>41</td>\n",
       "      <td>https://insights.blackcoffer.com/will-ai-repla...</td>\n",
       "    </tr>\n",
       "  </tbody>\n",
       "</table>\n",
       "</div>\n",
       "      <button class=\"colab-df-convert\" onclick=\"convertToInteractive('df-4f03c154-a604-45f7-847d-d955f09b17e1')\"\n",
       "              title=\"Convert this dataframe to an interactive table.\"\n",
       "              style=\"display:none;\">\n",
       "        \n",
       "  <svg xmlns=\"http://www.w3.org/2000/svg\" height=\"24px\"viewBox=\"0 0 24 24\"\n",
       "       width=\"24px\">\n",
       "    <path d=\"M0 0h24v24H0V0z\" fill=\"none\"/>\n",
       "    <path d=\"M18.56 5.44l.94 2.06.94-2.06 2.06-.94-2.06-.94-.94-2.06-.94 2.06-2.06.94zm-11 1L8.5 8.5l.94-2.06 2.06-.94-2.06-.94L8.5 2.5l-.94 2.06-2.06.94zm10 10l.94 2.06.94-2.06 2.06-.94-2.06-.94-.94-2.06-.94 2.06-2.06.94z\"/><path d=\"M17.41 7.96l-1.37-1.37c-.4-.4-.92-.59-1.43-.59-.52 0-1.04.2-1.43.59L10.3 9.45l-7.72 7.72c-.78.78-.78 2.05 0 2.83L4 21.41c.39.39.9.59 1.41.59.51 0 1.02-.2 1.41-.59l7.78-7.78 2.81-2.81c.8-.78.8-2.07 0-2.86zM5.41 20L4 18.59l7.72-7.72 1.47 1.35L5.41 20z\"/>\n",
       "  </svg>\n",
       "      </button>\n",
       "      \n",
       "  <style>\n",
       "    .colab-df-container {\n",
       "      display:flex;\n",
       "      flex-wrap:wrap;\n",
       "      gap: 12px;\n",
       "    }\n",
       "\n",
       "    .colab-df-convert {\n",
       "      background-color: #E8F0FE;\n",
       "      border: none;\n",
       "      border-radius: 50%;\n",
       "      cursor: pointer;\n",
       "      display: none;\n",
       "      fill: #1967D2;\n",
       "      height: 32px;\n",
       "      padding: 0 0 0 0;\n",
       "      width: 32px;\n",
       "    }\n",
       "\n",
       "    .colab-df-convert:hover {\n",
       "      background-color: #E2EBFA;\n",
       "      box-shadow: 0px 1px 2px rgba(60, 64, 67, 0.3), 0px 1px 3px 1px rgba(60, 64, 67, 0.15);\n",
       "      fill: #174EA6;\n",
       "    }\n",
       "\n",
       "    [theme=dark] .colab-df-convert {\n",
       "      background-color: #3B4455;\n",
       "      fill: #D2E3FC;\n",
       "    }\n",
       "\n",
       "    [theme=dark] .colab-df-convert:hover {\n",
       "      background-color: #434B5C;\n",
       "      box-shadow: 0px 1px 3px 1px rgba(0, 0, 0, 0.15);\n",
       "      filter: drop-shadow(0px 1px 2px rgba(0, 0, 0, 0.3));\n",
       "      fill: #FFFFFF;\n",
       "    }\n",
       "  </style>\n",
       "\n",
       "      <script>\n",
       "        const buttonEl =\n",
       "          document.querySelector('#df-4f03c154-a604-45f7-847d-d955f09b17e1 button.colab-df-convert');\n",
       "        buttonEl.style.display =\n",
       "          google.colab.kernel.accessAllowed ? 'block' : 'none';\n",
       "\n",
       "        async function convertToInteractive(key) {\n",
       "          const element = document.querySelector('#df-4f03c154-a604-45f7-847d-d955f09b17e1');\n",
       "          const dataTable =\n",
       "            await google.colab.kernel.invokeFunction('convertToInteractive',\n",
       "                                                     [key], {});\n",
       "          if (!dataTable) return;\n",
       "\n",
       "          const docLinkHtml = 'Like what you see? Visit the ' +\n",
       "            '<a target=\"_blank\" href=https://colab.research.google.com/notebooks/data_table.ipynb>data table notebook</a>'\n",
       "            + ' to learn more about interactive tables.';\n",
       "          element.innerHTML = '';\n",
       "          dataTable['output_type'] = 'display_data';\n",
       "          await google.colab.output.renderOutput(dataTable, element);\n",
       "          const docLink = document.createElement('div');\n",
       "          docLink.innerHTML = docLinkHtml;\n",
       "          element.appendChild(docLink);\n",
       "        }\n",
       "      </script>\n",
       "    </div>\n",
       "  </div>\n",
       "  "
      ],
      "text/plain": [
       "   URL_ID                                                URL\n",
       "0      37  https://insights.blackcoffer.com/ai-in-healthc...\n",
       "1      38  https://insights.blackcoffer.com/what-if-the-c...\n",
       "2      39  https://insights.blackcoffer.com/what-jobs-wil...\n",
       "3      40  https://insights.blackcoffer.com/will-machine-...\n",
       "4      41  https://insights.blackcoffer.com/will-ai-repla..."
      ]
     },
     "execution_count": 5,
     "metadata": {},
     "output_type": "execute_result"
    }
   ],
   "source": [
    "#reading the urls from Input.xlsx which will be web scraped\n",
    "df = pd.read_excel(\"/content/drive/MyDrive/Blackcoffer/Input.xlsx\", dtype={'URL_ID': 'Int32'})\n",
    "df.head(5)"
   ]
  },
  {
   "cell_type": "markdown",
   "metadata": {
    "id": "UKoC8Yw9U2C5"
   },
   "source": [
    "Scraping texts from multiple urls and storing them in directory Extracted_Texts"
   ]
  },
  {
   "cell_type": "code",
   "execution_count": 6,
   "metadata": {
    "id": "7-xj1rYhxvbx"
   },
   "outputs": [],
   "source": [
    "for index, url in enumerate(list(df['URL'])):\n",
    "  #to enable mod security access for scraping from websites\n",
    "  headers = {\"User-Agent\": 'Mozilla/5.0 (Windows NT 6.3; WOW64) AppleWebKit/537.36 (KHTML, like Gecko) Chrome/59.0.3071.115 Safari/537.36'}\n",
    "  #extract raw texts from urls\n",
    "  res = requests.get(url,headers=headers)\n",
    "  html_page = res.content\n",
    "  soup = BeautifulSoup(html_page, 'html.parser')\n",
    "  text = soup.find_all(text=True)\n",
    "  output = ''\n",
    "  #include only the required texts and exclude other contents\n",
    "  blacklist = ['[document]','a','article','aside','body','div','footer','form','h1','head','header','html','li','meta','pre','script','span','style','time','title','ul']\n",
    "  for t in text:\n",
    "      if t.parent.name not in blacklist:\n",
    "          output += '{} '.format(t)\n",
    "  #saving the scraped texts in individual files\n",
    "  file_path = dir + \"/\" + str(df['URL_ID'][index]) + \".txt\"\n",
    "  with open(file_path, 'w') as file:\n",
    "    file.write(output)\n",
    "    file.close()\n"
   ]
  },
  {
   "cell_type": "markdown",
   "metadata": {
    "id": "-SdRZW3QzPMP"
   },
   "source": [
    "# Sentimental Analysis"
   ]
  },
  {
   "cell_type": "markdown",
   "metadata": {
    "id": "lWl0oXsV48PF"
   },
   "source": [
    "**Creating Stop Words corpus**"
   ]
  },
  {
   "cell_type": "code",
   "execution_count": 7,
   "metadata": {
    "id": "te_TjGZ489J3"
   },
   "outputs": [],
   "source": [
    "stop_word_files = [filename for filename in os.listdir('/content/drive/MyDrive/Blackcoffer') if filename.startswith(\"StopWords\")]\n",
    "stop_words_corpus = []\n",
    "for file in stop_word_files:\n",
    "  fpath = '/content/drive/MyDrive/Blackcoffer/'+ file\n",
    "  with open(fpath, 'r', encoding='latin-1') as f:\n",
    "    text = f.readlines()\n",
    "    for t in text:\n",
    "      stop_words_corpus.append(t.split(\" \")[0])\n",
    "    \n",
    "\n",
    "with open(\"StopWords_corpus.txt\",'w') as f:\n",
    "  for word in stop_words_corpus:\n",
    "    f.write(word)\n",
    "    \n"
   ]
  },
  {
   "cell_type": "markdown",
   "metadata": {
    "id": "B4vzoYvG2lsb"
   },
   "source": [
    "**Cleaning using Stop Words Lists**"
   ]
  },
  {
   "cell_type": "code",
   "execution_count": 8,
   "metadata": {
    "id": "pTBAF9uZMJU-"
   },
   "outputs": [],
   "source": [
    "#Create directory Clean_text to store the cleaned texts\n",
    "dir = \"/content/drive/MyDrive/Blackcoffer/Clean_Text\"\n",
    "os.mkdir(dir)"
   ]
  },
  {
   "cell_type": "code",
   "execution_count": 9,
   "metadata": {
    "id": "dDLrevV3sbp6"
   },
   "outputs": [],
   "source": [
    "#Cleaning the raw texts using the list of stop words mentioned\n",
    "from nltk.tokenize import TweetTokenizer\n",
    "tweet = TweetTokenizer()\n",
    "\n",
    "for fpath in os.listdir(\"/content/Extracted_Texts\"):\n",
    "  with open(\"/content/Extracted_Texts/\"+fpath, 'r', encoding = 'utf-8') as f:\n",
    "    text = f.read()\n",
    "  words = tweet.tokenize(text)\n",
    "  words_new = [i for i in words if i not in stop_words_corpus]\n",
    "  with open(\"/content/drive/MyDrive/Blackcoffer/Clean_Text/\"+ fpath, 'w') as f:\n",
    "    for i in words_new:\n",
    "      f.write(i+\" \")"
   ]
  },
  {
   "cell_type": "markdown",
   "metadata": {
    "id": "2hkP67x8VNpy"
   },
   "source": [
    "IDs 44, 57 & 144 presently shows PageNotFound error."
   ]
  },
  {
   "cell_type": "code",
   "execution_count": 10,
   "metadata": {
    "id": "82u7G5oF8iCi"
   },
   "outputs": [],
   "source": [
    "error = [44,54,57,114,144]"
   ]
  },
  {
   "cell_type": "markdown",
   "metadata": {
    "id": "drRypc4iYEXg"
   },
   "source": [
    "**Extracting positive and negative words**"
   ]
  },
  {
   "cell_type": "code",
   "execution_count": 11,
   "metadata": {
    "id": "xJF5oetmbixG"
   },
   "outputs": [],
   "source": [
    "pos_words = []\n",
    "neg_words = []\n",
    "with open('/content/drive/MyDrive/Blackcoffer/MasterDictionary/positive-words.txt','r+',encoding='latin-1') as f:\n",
    "  for i in f.readlines():\n",
    "    pos_words.append(i.split('\\n')[0])\n",
    "   \n",
    "with open('/content/drive/MyDrive/Blackcoffer/MasterDictionary/negative-words.txt','r+',encoding='latin-1') as f:\n",
    "  for i in f.readlines():\n",
    "    neg_words.append(i.split('\\n')[0])\n"
   ]
  },
  {
   "cell_type": "markdown",
   "metadata": {
    "id": "CjSz95T-UCtL"
   },
   "source": [
    "**Positive Score, Negative Score, Word Count**"
   ]
  },
  {
   "cell_type": "code",
   "execution_count": 12,
   "metadata": {
    "id": "eNPLHJHcfFc9"
   },
   "outputs": [],
   "source": [
    "positive_score = []\n",
    "negative_score = []\n",
    "total_words = []\n",
    "for url_id in list(df['URL_ID']):\n",
    "  if url_id in error:\n",
    "    positive_score.append(\"NA\")\n",
    "    negative_score.append(\"NA\")\n",
    "    total_words.append(\"NA\")\n",
    "  else:\n",
    "    pos = 0\n",
    "    neg = 0\n",
    "    with open(\"/content/drive/MyDrive/Blackcoffer/Clean_Text/\"+str(url_id)+\".txt\", 'r', encoding = 'utf-8') as f:\n",
    "      text = f.read()\n",
    "    token=nltk.tokenize.word_tokenize(text)\n",
    "    token_new = [i for i in token if i not in string.punctuation]\n",
    "    total_words.append(len(token_new))\n",
    "    for i in token_new:\n",
    "      if i in pos_words:\n",
    "        pos+=1\n",
    "      if i in neg_words:\n",
    "        neg-=1\n",
    "    positive_score.append(pos)\n",
    "    negative_score.append(neg)\n"
   ]
  },
  {
   "cell_type": "markdown",
   "metadata": {
    "id": "qDFPsxysUKxd"
   },
   "source": [
    "**Polarity & Subjectivity Score**"
   ]
  },
  {
   "cell_type": "code",
   "execution_count": 13,
   "metadata": {
    "id": "hc8t2DLwgBZq"
   },
   "outputs": [],
   "source": [
    "polarity_score = [\"NA\" if positive_score[i]==\"NA\" else (positive_score[i] - negative_score[i])/(positive_score[i] + negative_score[i]) for i in range(len(list(df['URL_ID'])))]\n",
    "subjectivity_score = [\"NA\" if positive_score[i]==\"NA\" else (positive_score[i] + negative_score[i])/(total_words[i]+0.000001) for i in range(len(list(df['URL_ID'])))]"
   ]
  },
  {
   "cell_type": "markdown",
   "metadata": {
    "id": "hDNBepPHzFyc"
   },
   "source": [
    "# Analysis of Readability"
   ]
  },
  {
   "cell_type": "markdown",
   "metadata": {
    "id": "Hj-wtZHNKpWZ"
   },
   "source": [
    "**Average Number of Words Per Sentence**"
   ]
  },
  {
   "cell_type": "code",
   "execution_count": 14,
   "metadata": {
    "id": "s49zZiNZxjWn"
   },
   "outputs": [],
   "source": [
    "num_sentences = []\n",
    "avg_words_per_sent = []\n",
    "for url_id in list(df['URL_ID']):\n",
    "  if url_id in error:\n",
    "    num_sentences.append(\"NA\")\n",
    "  else:\n",
    "    with open(\"/content/drive/MyDrive/Blackcoffer/Clean_Text/\"+str(url_id)+\".txt\", 'r', encoding = 'utf-8') as f:\n",
    "      text = f.read()\n",
    "    tokenized_sentences = nltk.sent_tokenize(text)\n",
    "    num_sentences.append(len(tokenized_sentences))\n",
    "avg_words_per_sent = [\"NA\" if total_words[i]==\"NA\" else int(total_words[i]/num_sentences[i]) for i in range(len(list(df['URL'])))]"
   ]
  },
  {
   "cell_type": "markdown",
   "metadata": {
    "id": "7lZAwiCDOCbz"
   },
   "source": [
    "**Average Word Length**"
   ]
  },
  {
   "cell_type": "code",
   "execution_count": 15,
   "metadata": {
    "id": "JitF2GHFMYGl"
   },
   "outputs": [],
   "source": [
    "avg_word_len = []\n",
    "for url_id in list(df['URL_ID']):\n",
    "  if url_id in error:\n",
    "    avg_word_len.append(\"NA\")\n",
    "  else:\n",
    "    char_count = 0\n",
    "    with open(\"/content/drive/MyDrive/Blackcoffer/Clean_Text/\"+str(url_id)+\".txt\", 'r', encoding = 'utf-8') as f:\n",
    "      text = f.read()\n",
    "    token=nltk.tokenize.word_tokenize(text)\n",
    "    token_new = [i for i in token if i not in string.punctuation]\n",
    "    for i in token_new:\n",
    "      char_count+= len(i)\n",
    "    avg_word_len.append(int(char_count/len(token_new)))"
   ]
  },
  {
   "cell_type": "markdown",
   "metadata": {
    "id": "Uu0uNTQ9Ryee"
   },
   "source": [
    "**Average Sentence length**"
   ]
  },
  {
   "cell_type": "code",
   "execution_count": 16,
   "metadata": {
    "id": "-ct38WFsRqun"
   },
   "outputs": [],
   "source": [
    "avg_sent_len = []\n",
    "for url_id in list(df['URL_ID']):\n",
    "  if url_id in error:\n",
    "    avg_sent_len.append(\"NA\")\n",
    "  else:\n",
    "    sent_len = 0\n",
    "    with open(\"/content/drive/MyDrive/Blackcoffer/Clean_Text/\"+str(url_id)+\".txt\", 'r', encoding = 'utf-8') as f:\n",
    "      text = f.read()\n",
    "    tokenized_sentences = nltk.sent_tokenize(text)\n",
    "    token=nltk.tokenize.word_tokenize(text)\n",
    "    token_new = [i for i in token if i not in string.punctuation]\n",
    "    avg_sent_len.append(int(len(token_new)/len(tokenized_sentences))) "
   ]
  },
  {
   "cell_type": "markdown",
   "metadata": {
    "id": "0gOpAJ1TPthc"
   },
   "source": [
    "**Syllable Count Per Word**"
   ]
  },
  {
   "cell_type": "code",
   "execution_count": 17,
   "metadata": {
    "id": "xNFBbsj7PswL"
   },
   "outputs": [],
   "source": [
    "from curses.ascii import isdigit\n",
    "from nltk.corpus import cmudict\n",
    "\n",
    "d = cmudict.dict()\n",
    "def nsyl(word):\n",
    "  lowercase = word.lower()\n",
    "  if lowercase not in d:\n",
    "     return 0\n",
    "  else:\n",
    "     return max([len([y for y in x if isdigit(y[-1])]) for x in d[lowercase]])\n",
    "syllable_count = []\n",
    "for url_id in list(df['URL_ID']):\n",
    "  if url_id in error:\n",
    "    syllable_count.append(\"NA\")\n",
    "  else:\n",
    "    count=0\n",
    "    with open(\"/content/drive/MyDrive/Blackcoffer/Clean_Text/\"+str(url_id)+\".txt\", 'r', encoding = 'utf-8') as f:\n",
    "      text = f.read()\n",
    "    token = nltk.wordpunct_tokenize(text)\n",
    "    token_new = [i for i in token if i not in string.punctuation]\n",
    "    regexp = \"[A-Za-z]+\"\n",
    "    exp = re.compile(regexp)\n",
    "\n",
    "    for a in token_new:\n",
    "      if exp.match(a):\n",
    "          count+=nsyl(a)\n",
    "    syllable_count.append(count)\n"
   ]
  },
  {
   "cell_type": "markdown",
   "metadata": {
    "id": "tlFYIT1q6iIM"
   },
   "source": [
    "**Percentage of Complex words**"
   ]
  },
  {
   "cell_type": "code",
   "execution_count": 18,
   "metadata": {
    "id": "XZzTwK_dcET3"
   },
   "outputs": [],
   "source": [
    "complex_words_percentage = []\n",
    "complex_words_count = []\n",
    "for url_id in list(df['URL_ID']):\n",
    "  if url_id in error:\n",
    "    complex_words_percentage.append(\"NA\")\n",
    "    complex_words_count.append(\"NA\")\n",
    "  else:\n",
    "    complex_count = 0\n",
    "    with open(\"/content/drive/MyDrive/Blackcoffer/Clean_Text/\"+str(url_id)+\".txt\", 'r', encoding = 'utf-8') as f:\n",
    "      text = f.read()\n",
    "    token = nltk.wordpunct_tokenize(text)\n",
    "    token_new = [i for i in token if i not in string.punctuation]\n",
    "    regexp = \"[A-Za-z]+\"\n",
    "    exp = re.compile(regexp)\n",
    "    for a in token_new:\n",
    "      if exp.match(a):\n",
    "        if nsyl(a)>2:\n",
    "          complex_count+=1\n",
    "    complex_words_count.append(complex_count)\n",
    "    complex_words_percentage.append(np.round(complex_count*100/len(token_new),2))"
   ]
  },
  {
   "cell_type": "markdown",
   "metadata": {
    "id": "79tD_lECPd6f"
   },
   "source": [
    "**Personal Pronouns**"
   ]
  },
  {
   "cell_type": "code",
   "execution_count": 19,
   "metadata": {
    "id": "xcpxEZsjPivA"
   },
   "outputs": [],
   "source": [
    "pp = ['i','we','my','ours','us']\n",
    "pp_count = []\n",
    "for url_id in list(df['URL_ID']):\n",
    "  if url_id in error:\n",
    "    pp_count.append(\"NA\")\n",
    "  else:\n",
    "    count = 0\n",
    "    with open(\"/content/drive/MyDrive/Blackcoffer/Clean_Text/\"+str(url_id)+\".txt\", 'r', encoding = 'utf-8') as f:\n",
    "      text = f.read()\n",
    "    token = nltk.wordpunct_tokenize(text)\n",
    "    token_new = [i for i in token if i not in string.punctuation]\n",
    "    for i in token_new:\n",
    "      if i!=\"US\":\n",
    "        if i.lower() in pp:\n",
    "          count+=1\n",
    "    pp_count.append(count)\n",
    "\n"
   ]
  },
  {
   "cell_type": "markdown",
   "metadata": {
    "id": "Cxnc961nAIHi"
   },
   "source": [
    " **Fog Index = 0.4 * (Average Sentence Length + Percentage of Complex words)**\n"
   ]
  },
  {
   "cell_type": "code",
   "execution_count": 20,
   "metadata": {
    "id": "hB6-5xCdAJ_C"
   },
   "outputs": [],
   "source": [
    "fog_index = [\"NA\" if avg_sent_len[i]==\"NA\" else 0.4*(avg_sent_len[i]+complex_words_percentage[i]) for i in range(len(list(df['URL_ID'])))]"
   ]
  },
  {
   "cell_type": "markdown",
   "metadata": {
    "id": "TcWUpsEKUWVm"
   },
   "source": [
    "Finalizing the output scorecard"
   ]
  },
  {
   "cell_type": "code",
   "execution_count": 21,
   "metadata": {
    "colab": {
     "base_uri": "https://localhost:8080/",
     "height": 670
    },
    "id": "5Yaq9HV-JTtB",
    "outputId": "6b0bf57a-f5af-4e35-c215-833c84b0cb45"
   },
   "outputs": [
    {
     "data": {
      "text/html": [
       "\n",
       "  <div id=\"df-2fefbb58-c9ed-4d2d-8731-ebac04c4efe2\">\n",
       "    <div class=\"colab-df-container\">\n",
       "      <div>\n",
       "<style scoped>\n",
       "    .dataframe tbody tr th:only-of-type {\n",
       "        vertical-align: middle;\n",
       "    }\n",
       "\n",
       "    .dataframe tbody tr th {\n",
       "        vertical-align: top;\n",
       "    }\n",
       "\n",
       "    .dataframe thead th {\n",
       "        text-align: right;\n",
       "    }\n",
       "</style>\n",
       "<table border=\"1\" class=\"dataframe\">\n",
       "  <thead>\n",
       "    <tr style=\"text-align: right;\">\n",
       "      <th></th>\n",
       "      <th>URL_ID</th>\n",
       "      <th>URL</th>\n",
       "      <th>POSITIVE SCORE</th>\n",
       "      <th>NEGATIVE SCORE</th>\n",
       "      <th>POLARITY SCORE</th>\n",
       "      <th>SUBJECTIVITY SCORE</th>\n",
       "      <th>AVG SENTENCE LENGTH</th>\n",
       "      <th>PERCENTAGE OF COMPLEX WORDS</th>\n",
       "      <th>FOG INDEX</th>\n",
       "      <th>AVG NUMBER OF WORDS PER SENTENCE</th>\n",
       "      <th>COMPLEX WORD COUNT</th>\n",
       "      <th>WORD COUNT</th>\n",
       "      <th>SYLLABLE PER WORD</th>\n",
       "      <th>PERSONAL PRONOUNS</th>\n",
       "      <th>AVG WORD LENGTH</th>\n",
       "    </tr>\n",
       "  </thead>\n",
       "  <tbody>\n",
       "    <tr>\n",
       "      <th>0</th>\n",
       "      <td>37</td>\n",
       "      <td>https://insights.blackcoffer.com/ai-in-healthc...</td>\n",
       "      <td>76</td>\n",
       "      <td>-33</td>\n",
       "      <td>2.534884</td>\n",
       "      <td>0.023836</td>\n",
       "      <td>23</td>\n",
       "      <td>22.65</td>\n",
       "      <td>18.26</td>\n",
       "      <td>23</td>\n",
       "      <td>414</td>\n",
       "      <td>1804</td>\n",
       "      <td>3270</td>\n",
       "      <td>1</td>\n",
       "      <td>5</td>\n",
       "    </tr>\n",
       "    <tr>\n",
       "      <th>1</th>\n",
       "      <td>38</td>\n",
       "      <td>https://insights.blackcoffer.com/what-if-the-c...</td>\n",
       "      <td>65</td>\n",
       "      <td>-38</td>\n",
       "      <td>3.814815</td>\n",
       "      <td>0.018711</td>\n",
       "      <td>18</td>\n",
       "      <td>14.13</td>\n",
       "      <td>12.852</td>\n",
       "      <td>18</td>\n",
       "      <td>206</td>\n",
       "      <td>1443</td>\n",
       "      <td>2258</td>\n",
       "      <td>7</td>\n",
       "      <td>4</td>\n",
       "    </tr>\n",
       "    <tr>\n",
       "      <th>2</th>\n",
       "      <td>39</td>\n",
       "      <td>https://insights.blackcoffer.com/what-jobs-wil...</td>\n",
       "      <td>73</td>\n",
       "      <td>-35</td>\n",
       "      <td>2.842105</td>\n",
       "      <td>0.022209</td>\n",
       "      <td>20</td>\n",
       "      <td>21.37</td>\n",
       "      <td>16.548</td>\n",
       "      <td>20</td>\n",
       "      <td>367</td>\n",
       "      <td>1711</td>\n",
       "      <td>3037</td>\n",
       "      <td>3</td>\n",
       "      <td>5</td>\n",
       "    </tr>\n",
       "    <tr>\n",
       "      <th>3</th>\n",
       "      <td>40</td>\n",
       "      <td>https://insights.blackcoffer.com/will-machine-...</td>\n",
       "      <td>72</td>\n",
       "      <td>-25</td>\n",
       "      <td>2.06383</td>\n",
       "      <td>0.028416</td>\n",
       "      <td>17</td>\n",
       "      <td>15.37</td>\n",
       "      <td>12.948</td>\n",
       "      <td>17</td>\n",
       "      <td>255</td>\n",
       "      <td>1654</td>\n",
       "      <td>2652</td>\n",
       "      <td>17</td>\n",
       "      <td>4</td>\n",
       "    </tr>\n",
       "    <tr>\n",
       "      <th>4</th>\n",
       "      <td>41</td>\n",
       "      <td>https://insights.blackcoffer.com/will-ai-repla...</td>\n",
       "      <td>59</td>\n",
       "      <td>-25</td>\n",
       "      <td>2.470588</td>\n",
       "      <td>0.019155</td>\n",
       "      <td>21</td>\n",
       "      <td>17.65</td>\n",
       "      <td>15.46</td>\n",
       "      <td>21</td>\n",
       "      <td>317</td>\n",
       "      <td>1775</td>\n",
       "      <td>2881</td>\n",
       "      <td>16</td>\n",
       "      <td>4</td>\n",
       "    </tr>\n",
       "    <tr>\n",
       "      <th>5</th>\n",
       "      <td>42</td>\n",
       "      <td>https://insights.blackcoffer.com/man-and-machi...</td>\n",
       "      <td>55</td>\n",
       "      <td>-24</td>\n",
       "      <td>2.548387</td>\n",
       "      <td>0.023773</td>\n",
       "      <td>21</td>\n",
       "      <td>15.78</td>\n",
       "      <td>14.712</td>\n",
       "      <td>21</td>\n",
       "      <td>207</td>\n",
       "      <td>1304</td>\n",
       "      <td>2088</td>\n",
       "      <td>16</td>\n",
       "      <td>4</td>\n",
       "    </tr>\n",
       "    <tr>\n",
       "      <th>6</th>\n",
       "      <td>43</td>\n",
       "      <td>https://insights.blackcoffer.com/in-future-or-...</td>\n",
       "      <td>27</td>\n",
       "      <td>-12</td>\n",
       "      <td>2.6</td>\n",
       "      <td>0.020492</td>\n",
       "      <td>16</td>\n",
       "      <td>17.05</td>\n",
       "      <td>13.22</td>\n",
       "      <td>16</td>\n",
       "      <td>126</td>\n",
       "      <td>732</td>\n",
       "      <td>1212</td>\n",
       "      <td>7</td>\n",
       "      <td>5</td>\n",
       "    </tr>\n",
       "    <tr>\n",
       "      <th>7</th>\n",
       "      <td>44</td>\n",
       "      <td>https://insights.blackcoffer.com/how-neural-ne...</td>\n",
       "      <td>NA</td>\n",
       "      <td>NA</td>\n",
       "      <td>NA</td>\n",
       "      <td>NA</td>\n",
       "      <td>NA</td>\n",
       "      <td>NA</td>\n",
       "      <td>NA</td>\n",
       "      <td>NA</td>\n",
       "      <td>NA</td>\n",
       "      <td>NA</td>\n",
       "      <td>NA</td>\n",
       "      <td>NA</td>\n",
       "      <td>NA</td>\n",
       "    </tr>\n",
       "    <tr>\n",
       "      <th>8</th>\n",
       "      <td>45</td>\n",
       "      <td>https://insights.blackcoffer.com/how-machine-l...</td>\n",
       "      <td>43</td>\n",
       "      <td>-13</td>\n",
       "      <td>1.866667</td>\n",
       "      <td>0.040323</td>\n",
       "      <td>20</td>\n",
       "      <td>11.6</td>\n",
       "      <td>12.64</td>\n",
       "      <td>20</td>\n",
       "      <td>87</td>\n",
       "      <td>744</td>\n",
       "      <td>1096</td>\n",
       "      <td>2</td>\n",
       "      <td>4</td>\n",
       "    </tr>\n",
       "    <tr>\n",
       "      <th>9</th>\n",
       "      <td>46</td>\n",
       "      <td>https://insights.blackcoffer.com/deep-learning...</td>\n",
       "      <td>77</td>\n",
       "      <td>-40</td>\n",
       "      <td>3.162162</td>\n",
       "      <td>0.016772</td>\n",
       "      <td>27</td>\n",
       "      <td>17.27</td>\n",
       "      <td>17.708</td>\n",
       "      <td>27</td>\n",
       "      <td>386</td>\n",
       "      <td>2206</td>\n",
       "      <td>3584</td>\n",
       "      <td>7</td>\n",
       "      <td>4</td>\n",
       "    </tr>\n",
       "  </tbody>\n",
       "</table>\n",
       "</div>\n",
       "      <button class=\"colab-df-convert\" onclick=\"convertToInteractive('df-2fefbb58-c9ed-4d2d-8731-ebac04c4efe2')\"\n",
       "              title=\"Convert this dataframe to an interactive table.\"\n",
       "              style=\"display:none;\">\n",
       "        \n",
       "  <svg xmlns=\"http://www.w3.org/2000/svg\" height=\"24px\"viewBox=\"0 0 24 24\"\n",
       "       width=\"24px\">\n",
       "    <path d=\"M0 0h24v24H0V0z\" fill=\"none\"/>\n",
       "    <path d=\"M18.56 5.44l.94 2.06.94-2.06 2.06-.94-2.06-.94-.94-2.06-.94 2.06-2.06.94zm-11 1L8.5 8.5l.94-2.06 2.06-.94-2.06-.94L8.5 2.5l-.94 2.06-2.06.94zm10 10l.94 2.06.94-2.06 2.06-.94-2.06-.94-.94-2.06-.94 2.06-2.06.94z\"/><path d=\"M17.41 7.96l-1.37-1.37c-.4-.4-.92-.59-1.43-.59-.52 0-1.04.2-1.43.59L10.3 9.45l-7.72 7.72c-.78.78-.78 2.05 0 2.83L4 21.41c.39.39.9.59 1.41.59.51 0 1.02-.2 1.41-.59l7.78-7.78 2.81-2.81c.8-.78.8-2.07 0-2.86zM5.41 20L4 18.59l7.72-7.72 1.47 1.35L5.41 20z\"/>\n",
       "  </svg>\n",
       "      </button>\n",
       "      \n",
       "  <style>\n",
       "    .colab-df-container {\n",
       "      display:flex;\n",
       "      flex-wrap:wrap;\n",
       "      gap: 12px;\n",
       "    }\n",
       "\n",
       "    .colab-df-convert {\n",
       "      background-color: #E8F0FE;\n",
       "      border: none;\n",
       "      border-radius: 50%;\n",
       "      cursor: pointer;\n",
       "      display: none;\n",
       "      fill: #1967D2;\n",
       "      height: 32px;\n",
       "      padding: 0 0 0 0;\n",
       "      width: 32px;\n",
       "    }\n",
       "\n",
       "    .colab-df-convert:hover {\n",
       "      background-color: #E2EBFA;\n",
       "      box-shadow: 0px 1px 2px rgba(60, 64, 67, 0.3), 0px 1px 3px 1px rgba(60, 64, 67, 0.15);\n",
       "      fill: #174EA6;\n",
       "    }\n",
       "\n",
       "    [theme=dark] .colab-df-convert {\n",
       "      background-color: #3B4455;\n",
       "      fill: #D2E3FC;\n",
       "    }\n",
       "\n",
       "    [theme=dark] .colab-df-convert:hover {\n",
       "      background-color: #434B5C;\n",
       "      box-shadow: 0px 1px 3px 1px rgba(0, 0, 0, 0.15);\n",
       "      filter: drop-shadow(0px 1px 2px rgba(0, 0, 0, 0.3));\n",
       "      fill: #FFFFFF;\n",
       "    }\n",
       "  </style>\n",
       "\n",
       "      <script>\n",
       "        const buttonEl =\n",
       "          document.querySelector('#df-2fefbb58-c9ed-4d2d-8731-ebac04c4efe2 button.colab-df-convert');\n",
       "        buttonEl.style.display =\n",
       "          google.colab.kernel.accessAllowed ? 'block' : 'none';\n",
       "\n",
       "        async function convertToInteractive(key) {\n",
       "          const element = document.querySelector('#df-2fefbb58-c9ed-4d2d-8731-ebac04c4efe2');\n",
       "          const dataTable =\n",
       "            await google.colab.kernel.invokeFunction('convertToInteractive',\n",
       "                                                     [key], {});\n",
       "          if (!dataTable) return;\n",
       "\n",
       "          const docLinkHtml = 'Like what you see? Visit the ' +\n",
       "            '<a target=\"_blank\" href=https://colab.research.google.com/notebooks/data_table.ipynb>data table notebook</a>'\n",
       "            + ' to learn more about interactive tables.';\n",
       "          element.innerHTML = '';\n",
       "          dataTable['output_type'] = 'display_data';\n",
       "          await google.colab.output.renderOutput(dataTable, element);\n",
       "          const docLink = document.createElement('div');\n",
       "          docLink.innerHTML = docLinkHtml;\n",
       "          element.appendChild(docLink);\n",
       "        }\n",
       "      </script>\n",
       "    </div>\n",
       "  </div>\n",
       "  "
      ],
      "text/plain": [
       "   URL_ID                                                URL POSITIVE SCORE  \\\n",
       "0      37  https://insights.blackcoffer.com/ai-in-healthc...             76   \n",
       "1      38  https://insights.blackcoffer.com/what-if-the-c...             65   \n",
       "2      39  https://insights.blackcoffer.com/what-jobs-wil...             73   \n",
       "3      40  https://insights.blackcoffer.com/will-machine-...             72   \n",
       "4      41  https://insights.blackcoffer.com/will-ai-repla...             59   \n",
       "5      42  https://insights.blackcoffer.com/man-and-machi...             55   \n",
       "6      43  https://insights.blackcoffer.com/in-future-or-...             27   \n",
       "7      44  https://insights.blackcoffer.com/how-neural-ne...             NA   \n",
       "8      45  https://insights.blackcoffer.com/how-machine-l...             43   \n",
       "9      46  https://insights.blackcoffer.com/deep-learning...             77   \n",
       "\n",
       "  NEGATIVE SCORE POLARITY SCORE SUBJECTIVITY SCORE AVG SENTENCE LENGTH  \\\n",
       "0            -33       2.534884           0.023836                  23   \n",
       "1            -38       3.814815           0.018711                  18   \n",
       "2            -35       2.842105           0.022209                  20   \n",
       "3            -25        2.06383           0.028416                  17   \n",
       "4            -25       2.470588           0.019155                  21   \n",
       "5            -24       2.548387           0.023773                  21   \n",
       "6            -12            2.6           0.020492                  16   \n",
       "7             NA             NA                 NA                  NA   \n",
       "8            -13       1.866667           0.040323                  20   \n",
       "9            -40       3.162162           0.016772                  27   \n",
       "\n",
       "  PERCENTAGE OF COMPLEX WORDS FOG INDEX AVG NUMBER OF WORDS PER SENTENCE  \\\n",
       "0                       22.65     18.26                               23   \n",
       "1                       14.13    12.852                               18   \n",
       "2                       21.37    16.548                               20   \n",
       "3                       15.37    12.948                               17   \n",
       "4                       17.65     15.46                               21   \n",
       "5                       15.78    14.712                               21   \n",
       "6                       17.05     13.22                               16   \n",
       "7                          NA        NA                               NA   \n",
       "8                        11.6     12.64                               20   \n",
       "9                       17.27    17.708                               27   \n",
       "\n",
       "  COMPLEX WORD COUNT WORD COUNT SYLLABLE PER WORD PERSONAL PRONOUNS  \\\n",
       "0                414       1804              3270                 1   \n",
       "1                206       1443              2258                 7   \n",
       "2                367       1711              3037                 3   \n",
       "3                255       1654              2652                17   \n",
       "4                317       1775              2881                16   \n",
       "5                207       1304              2088                16   \n",
       "6                126        732              1212                 7   \n",
       "7                 NA         NA                NA                NA   \n",
       "8                 87        744              1096                 2   \n",
       "9                386       2206              3584                 7   \n",
       "\n",
       "  AVG WORD LENGTH  \n",
       "0               5  \n",
       "1               4  \n",
       "2               5  \n",
       "3               4  \n",
       "4               4  \n",
       "5               4  \n",
       "6               5  \n",
       "7              NA  \n",
       "8               4  \n",
       "9               4  "
      ]
     },
     "execution_count": 21,
     "metadata": {},
     "output_type": "execute_result"
    }
   ],
   "source": [
    "output = {'URL_ID':list(df['URL_ID']),\n",
    "          'URL':list(df['URL']),\n",
    "          'POSITIVE SCORE':positive_score,\n",
    "          'NEGATIVE SCORE':negative_score,\n",
    "          'POLARITY SCORE':polarity_score,\n",
    "          'SUBJECTIVITY SCORE':subjectivity_score,\n",
    "          'AVG SENTENCE LENGTH':avg_sent_len,\n",
    "          'PERCENTAGE OF COMPLEX WORDS':complex_words_percentage,\n",
    "          'FOG INDEX':fog_index,\n",
    "          'AVG NUMBER OF WORDS PER SENTENCE':avg_words_per_sent,\n",
    "          'COMPLEX WORD COUNT':complex_words_count,\n",
    "          'WORD COUNT':total_words,\n",
    "          'SYLLABLE PER WORD':syllable_count,\n",
    "          'PERSONAL PRONOUNS':pp_count,\n",
    "          'AVG WORD LENGTH':avg_word_len}\n",
    "output_df = pd.DataFrame(output)\n",
    "output_df.head(10)"
   ]
  },
  {
   "cell_type": "code",
   "execution_count": 22,
   "metadata": {
    "id": "pyHzuwA7RZUm"
   },
   "outputs": [],
   "source": [
    "#storing the output in excel sheet\n",
    "output_df.to_excel(\"Output.xlsx\")"
   ]
  },
  {
   "cell_type": "code",
   "execution_count": null,
   "metadata": {
    "id": "zgQ4ieGsRq0C"
   },
   "outputs": [],
   "source": []
  }
 ],
 "metadata": {
  "colab": {
   "provenance": []
  },
  "kernelspec": {
   "display_name": "Python 3 (ipykernel)",
   "language": "python",
   "name": "python3"
  },
  "language_info": {
   "codemirror_mode": {
    "name": "ipython",
    "version": 3
   },
   "file_extension": ".py",
   "mimetype": "text/x-python",
   "name": "python",
   "nbconvert_exporter": "python",
   "pygments_lexer": "ipython3",
   "version": "3.9.12"
  }
 },
 "nbformat": 4,
 "nbformat_minor": 1
}
